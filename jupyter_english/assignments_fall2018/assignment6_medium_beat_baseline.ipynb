{
 "cells": [
  {
   "cell_type": "markdown",
   "metadata": {},
   "source": [
    "<center>\n",
    "<img src=\"../../img/ods_stickers.jpg\" />\n",
    "    \n",
    "## [mlcourse.ai](https://mlcourse.ai) – Open Machine Learning Course \n",
    "Author: [Yury Kashnitskiy](https://yorko.github.io) (@yorko). Edited by Sergey Kolchenko (@KolchenkoSergey). This material is subject to the terms and conditions of the [Creative Commons CC BY-NC-SA 4.0](https://creativecommons.org/licenses/by-nc-sa/4.0/) license. Free use is permitted for any non-commercial purpose."
   ]
  },
  {
   "cell_type": "markdown",
   "metadata": {},
   "source": [
    "## <center>Assignment #6\n",
    "### <center> Beating baselines in \"How good is your Medium article?\"\n",
    "    \n",
    "<img src='../../img/medium_claps.jpg' width=40% />\n",
    "\n",
    "\n",
    "[Competition](https://www.kaggle.com/c/how-good-is-your-medium-article). The task is to beat \"A6 baseline\" (~1.45 Public LB score). Do not forget about our shared [\"primitive\" baseline](https://www.kaggle.com/kashnitsky/ridge-countvectorizer-baseline) - you'll find something valuable there.\n",
    "\n",
    "**Your task:**\n",
    " 1. \"Freeride\". Come up with good features to beat the baseline \"A6 baseline\" (for now, public LB is only considered)\n",
    " 2. You need to name your [team](https://www.kaggle.com/c/how-good-is-your-medium-article/team) (out of 1 person) in full accordance with the [course rating](https://drive.google.com/open?id=19AGEhUQUol6_kNLKSzBsjcGUU3qWy3BNUg8x8IFkO3Q). You can think of it as a part of the assignment. 16 credits for beating the mentioned baseline and correct team naming.\n",
    " \n",
    "*For discussions, please stick to [ODS Slack](https://opendatascience.slack.com/), channel #mlcourse_ai, pinned thread __#a6__*"
   ]
  },
  {
   "cell_type": "code",
   "execution_count": 2,
   "metadata": {},
   "outputs": [],
   "source": [
    "import os\n",
    "import json\n",
    "from tqdm import tqdm_notebook\n",
    "import numpy as np\n",
    "import pandas as pd\n",
    "from sklearn.feature_extraction.text import TfidfVectorizer\n",
    "from sklearn.feature_extraction.text import CountVectorizer\n",
    "from sklearn.metrics import mean_absolute_error\n",
    "from scipy.sparse import csr_matrix, hstack\n",
    "from sklearn.linear_model import Ridge"
   ]
  },
  {
   "cell_type": "markdown",
   "metadata": {},
   "source": [
    "The following code will help to throw away all HTML tags from an article content."
   ]
  },
  {
   "cell_type": "code",
   "execution_count": 3,
   "metadata": {},
   "outputs": [],
   "source": [
    "from html.parser import HTMLParser\n",
    "\n",
    "class MLStripper(HTMLParser):\n",
    "    def __init__(self):\n",
    "        self.reset()\n",
    "        self.strict = False\n",
    "        self.convert_charrefs= True\n",
    "        self.fed = []\n",
    "    def handle_data(self, d):\n",
    "        self.fed.append(d)\n",
    "    def get_data(self):\n",
    "        return ''.join(self.fed)\n",
    "\n",
    "def strip_tags(html):\n",
    "    s = MLStripper()\n",
    "    s.feed(html)\n",
    "    return s.get_data()"
   ]
  },
  {
   "cell_type": "markdown",
   "metadata": {},
   "source": [
    "Supplementary function to read a JSON line without crashing on escape characters."
   ]
  },
  {
   "cell_type": "code",
   "execution_count": 4,
   "metadata": {},
   "outputs": [],
   "source": [
    "def read_json_line(line=None):\n",
    "    result = None\n",
    "    try:        \n",
    "        result = json.loads(line)\n",
    "    except Exception as e:      \n",
    "        # Find the offending character index:\n",
    "        idx_to_replace = int(str(e).split(' ')[-1].replace(')',''))      \n",
    "        # Remove the offending character:\n",
    "        new_line = list(line)\n",
    "        new_line[idx_to_replace] = ' '\n",
    "        new_line = ''.join(new_line)     \n",
    "        return read_json_line(line=new_line)\n",
    "    return result"
   ]
  },
  {
   "cell_type": "markdown",
   "metadata": {},
   "source": [
    "Extract features `content`, `published`, `title` and `author`, write them to separate files for train and test sets."
   ]
  },
  {
   "cell_type": "code",
   "execution_count": 21,
   "metadata": {},
   "outputs": [],
   "source": [
    "def extract_features_and_write(path_to_data,\n",
    "                               inp_filename, is_train=True):\n",
    "    \n",
    "    features = ['content', 'published', 'title', 'author']\n",
    "    prefix = 'train' if is_train else 'test'\n",
    "    feature_files = [open(os.path.join(path_to_data,\n",
    "                                       '{}_{}.txt'.format(prefix, feat)),\n",
    "                          'w', encoding='utf-8')\n",
    "                     for feat in features]\n",
    "    \n",
    "    features_to_files_dict = dict(list(zip(features, feature_files)))\n",
    "    to_dump = {'content': [], 'published': [], 'title': [], 'author': []}\n",
    "    \n",
    "    with open(os.path.join(path_to_data, inp_filename), \n",
    "              encoding='utf-8') as inp_json_file:\n",
    "\n",
    "        for line in tqdm_notebook(inp_json_file):\n",
    "            json_data = read_json_line(line)\n",
    "            pub_date = json_data['published']['$date']\n",
    "            title = json_data['meta_tags']['title'].split('\\u2013')[0].strip().replace('\\n', ' ').replace('\\r', ' '))\n",
    "            author_name = json_data['meta_tags']['author'].strip()\n",
    "            content = strip_tags(json_data['content'].replace('\\n', ' ').replace('\\r', ' '))\n",
    "            to_dump['content'].append(content)\n",
    "            to_dump['published'].append(pub_date)\n",
    "            to_dump['title'].append(title)\n",
    "            to_dump['author'].append(author_name)   \n",
    "            for feature in features_to_files_dict:\n",
    "                features_to_files_dict[feature].write(str(to_dump[feature][-1]) + '\\n')\n",
    "            #print(pub_date,\"|\", title, \"|\", author_name, \"|\", content)\n",
    "\n",
    "        for f in features_to_files_dict:\n",
    "            features_to_files_dict[f].close()\n",
    "    return to_dump\n",
    "                "
   ]
  },
  {
   "cell_type": "code",
   "execution_count": 22,
   "metadata": {},
   "outputs": [],
   "source": [
    "PATH_TO_DATA = '../../data/medium/' # modify this if you need to"
   ]
  },
  {
   "cell_type": "code",
   "execution_count": 23,
   "metadata": {},
   "outputs": [
    {
     "name": "stdout",
     "output_type": "stream",
     "text": [
      "2012-08-13T22:54:53.510 || Medium Terms of Service || Medium\n",
      "2015-08-03T07:44:50.331 || Amendment to Medium Terms of Service Applicable to U.S. Government Users || Medium\n",
      "2017-02-05T13:08:17.410 || 走入山與海之間：閩東大刀會和兩岸走私 || Yun-Chen Chien（簡韻真）\n",
      "2017-05-06T08:16:30.776 || How fast can a camera get? || Vaibhav Khulbe\n",
      "2017-06-04T14:46:25.772 || A game for the lonely fox || Vaibhav Khulbe\n",
      "2017-04-02T16:21:15.171 || Now That’s Comedy || Kate Reed Petty\n",
      "2016-08-15T04:16:02.103 || Che fine ha fatto «Gola Profonda»? || exedre\n",
      "2015-01-14T21:31:07.568 || Airbnb Guerilla Usability Testing || Raghav Haran\n",
      "2014-02-11T04:11:54.771 || A Guerilla Usability Test on Dropbox Photos || Francine Lee\n",
      "2015-10-25T02:58:05.551 || How to Get Any Job You Want (even if you’re unqualified) || Raghav Haran\n",
      "2016-08-15T15:31:13.601 || On Trump, Brexit and Predictions; || E²\n",
      "2016-08-09T21:01:06.303 || 29 Books Every Entrepreneur Should Read in 2016 || One Month\n",
      "2016-09-08T15:47:57.336 || The Basics of Staking in Poker || Frank DeGeorge\n",
      "2016-09-30T18:05:35.950 || Crônicas do Mundial (29/09): Voltamos || Gregório Jung\n",
      "2017-06-27T15:49:22.909 || Why Invest in Esports? Common Questions about Esports: Answered || Stephen Hays\n",
      "2015-07-13T06:52:44.618 || Want a Better Pitch? Watch This. || Andy Raskin\n",
      "2017-05-01T13:22:43.785 || The Birth of a Venture Capital Investment Thesis || Stephen Hays\n",
      "2016-08-31T17:11:24.263 || Why Sales Teams Crave Storytelling Training || Andy Raskin\n",
      "2017-06-30T07:55:55.103 || WTF is The Blockchain? || Mohit Mamoria\n",
      "2016-12-13T23:29:35.556 || The Future of Cities || Oscar Boyson\n",
      "2016-01-27T22:19:05.027 || Phenom, a 500 Startups Company || Brian Verne\n"
     ]
    },
    {
     "name": "stderr",
     "output_type": "stream",
     "text": [
      "/usr/local/lib/python3.5/dist-packages/ipykernel_launcher.py:12: DeprecationWarning: parsing timezone aware datetimes is deprecated; this will raise an error in the future\n",
      "  if sys.path[0] == '':\n"
     ]
    }
   ],
   "source": [
    "with open(os.path.join(PATH_TO_DATA, \"train.json\"), \n",
    "          encoding='utf-8') as inp_json_file:\n",
    "    i = 0\n",
    "    for line in inp_json_file: #tqdm_notebook(inp_json_file):\n",
    "        if i > 20:\n",
    "            break\n",
    "        json_data = read_json_line(line)\n",
    "        pub_date = json_data['published']['$date']\n",
    "        title = json_data['title'].replace('\\n', ' ').replace('\\r', ' ')\n",
    "#         author_name = json_data['author']['name'].replace('\\n', ' ').replace('\\r', ' ')\n",
    "        content = strip_tags(json_data['content'].replace('\\n', ' ').replace('\\r', ' '))\n",
    "        pub_date = np.datetime64(json_data['published']['$date'])\n",
    "        title = json_data['meta_tags']['title'].split('\\u2013')[0].strip().replace('\\n', ' ').replace('\\r', ' '))\n",
    "        author_name = json_data['meta_tags']['author'].strip()\n",
    "        print(pub_date,\"||\", title, \"||\", author_name)#, \"|\", content)\n",
    "#         print(json.dumps(json_data, indent=4))\n",
    "        i += 1\n",
    "       "
   ]
  },
  {
   "cell_type": "code",
   "execution_count": 25,
   "metadata": {},
   "outputs": [
    {
     "data": {
      "application/vnd.jupyter.widget-view+json": {
       "model_id": "1a0c3ad59c2245aea3e06d2f36f42494",
       "version_major": 2,
       "version_minor": 0
      },
      "text/plain": [
       "HBox(children=(IntProgress(value=1, bar_style='info', max=1), HTML(value='')))"
      ]
     },
     "metadata": {},
     "output_type": "display_data"
    }
   ],
   "source": [
    "train_data = extract_features_and_write(PATH_TO_DATA, 'train.json', is_train=True)"
   ]
  },
  {
   "cell_type": "code",
   "execution_count": 29,
   "metadata": {},
   "outputs": [
    {
     "data": {
      "application/vnd.jupyter.widget-view+json": {
       "model_id": "4fd2934a0f374f90b1b3d499381733f1",
       "version_major": 2,
       "version_minor": 0
      },
      "text/plain": [
       "HBox(children=(IntProgress(value=1, bar_style='info', max=1), HTML(value='')))"
      ]
     },
     "metadata": {},
     "output_type": "display_data"
    }
   ],
   "source": [
    "test_data = extract_features_and_write(PATH_TO_DATA, 'test.json', is_train=False)"
   ]
  },
  {
   "cell_type": "code",
   "execution_count": 12,
   "metadata": {},
   "outputs": [
    {
     "name": "stdout",
     "output_type": "stream",
     "text": [
      "total 4148732\r\n",
      "-rw-rw-r-- 1 1000 1000     884217 Nov 17 16:56 sample_submission.csv\r\n",
      "-rw-rw-rw- 1 1000 1000 1156020029 Sep 20 06:56 test.json\r\n",
      "-rw-r--r-- 1 root root     173225 Nov 17 19:20 test_author.txt\r\n",
      "-rw-r--r-- 1 root root  347316676 Nov 17 19:20 test_content.txt\r\n",
      "-rw-r--r-- 1 root root     831480 Nov 17 19:20 test_published.txt\r\n",
      "-rw-r--r-- 1 root root    2350112 Nov 17 19:20 test_title.txt\r\n",
      "-rw-rw-rw- 1 1000 1000 2086185062 Sep 20 06:56 train.json\r\n",
      "-rw-r--r-- 1 root root     895415 Nov 18 07:18 train_author.txt\r\n",
      "-rw-r--r-- 1 root root  648268497 Nov 18 07:18 train_content.txt\r\n",
      "-rw-rw-r-- 1 1000 1000     912544 Nov 17 16:56 train_log1p_recommends.csv\r\n",
      "-rw-r--r-- 1 root root    1495512 Nov 18 07:18 train_published.txt\r\n",
      "-rw-r--r-- 1 root root    2924954 Nov 18 07:18 train_title.txt\r\n"
     ]
    }
   ],
   "source": [
    "! ls -l ../../data/medium/\n"
   ]
  },
  {
   "cell_type": "markdown",
   "metadata": {},
   "source": [
    "**Add the following groups of features:**\n",
    "    - Tf-Idf with article content (ngram_range=(1, 2), max_features=100000 but you can try adding more)\n",
    "    - Tf-Idf with article titles (ngram_range=(1, 2), max_features=100000 but you can try adding more)\n",
    "    - Time features: publication hour, whether it's morning, day, night, whether it's a weekend\n",
    "    - Bag of authors (i.e. One-Hot-Encoded author names)"
   ]
  },
  {
   "cell_type": "code",
   "execution_count": 30,
   "metadata": {},
   "outputs": [],
   "source": [
    "train = pd.DataFrame()\n",
    "train['published'] = pd.to_datetime(train_data['published'], format='%Y-%m-%dT%H:%M:%S.%fZ')\n",
    "train['title'] = train_data['title']\n",
    "train['author'] = train_data['author']\n",
    "train['content'] = train_data['content']"
   ]
  },
  {
   "cell_type": "code",
   "execution_count": 37,
   "metadata": {},
   "outputs": [],
   "source": [
    "idx_split = len(train)"
   ]
  },
  {
   "cell_type": "code",
   "execution_count": null,
   "metadata": {},
   "outputs": [],
   "source": [
    "df_full['dow'] = df_full['published'].apply(lambda x: x.dayofweek)\n",
    "df_full['year'] = df_full['published'].apply(lambda x: x.year)\n",
    "df_full['month'] = df_full['published'].apply(lambda x: x.month)\n",
    "df_full['hour'] = df_full['published'].apply(lambda x: x.hour)\n",
    "\n",
    "full_new_feat['start_hour'] = full_df['time1'].\\\n",
    "    apply(lambda ts:ts.hour).astype('float64')\n",
    "full_new_feat.head(5)\n",
    "full_new_feat['morning'] = (full_new_feat['start_hour'] <=11.0).astype('int64')"
   ]
  },
  {
   "cell_type": "code",
   "execution_count": null,
   "metadata": {},
   "outputs": [],
   "source": []
  },
  {
   "cell_type": "code",
   "execution_count": null,
   "metadata": {},
   "outputs": [],
   "source": []
  },
  {
   "cell_type": "code",
   "execution_count": null,
   "metadata": {},
   "outputs": [],
   "source": [
    "TF_V = TfidfVectorizer(max_features=100000, ngram_range=(1,2))\n"
   ]
  },
  {
   "cell_type": "code",
   "execution_count": 39,
   "metadata": {},
   "outputs": [],
   "source": [
    "X_train_content_sparse = TF_V.fit_transform(train_data['content'])"
   ]
  },
  {
   "cell_type": "code",
   "execution_count": null,
   "metadata": {},
   "outputs": [],
   "source": [
    "X_train_title_sparse = TF_V.fit_transform(train_data['title'])"
   ]
  },
  {
   "cell_type": "code",
   "execution_count": null,
   "metadata": {},
   "outputs": [],
   "source": []
  },
  {
   "cell_type": "code",
   "execution_count": null,
   "metadata": {},
   "outputs": [],
   "source": []
  },
  {
   "cell_type": "markdown",
   "metadata": {},
   "source": [
    "**Join all sparse matrices.**"
   ]
  },
  {
   "cell_type": "code",
   "execution_count": null,
   "metadata": {},
   "outputs": [],
   "source": [
    "X_train_sparse = hstack([X_train_content_sparse, X_train_title_sparse,\n",
    "                         X_train_author_sparse, \n",
    "                         X_train_time_features_sparse]).tocsr()"
   ]
  },
  {
   "cell_type": "code",
   "execution_count": null,
   "metadata": {},
   "outputs": [],
   "source": [
    "X_test_sparse = hstack([X_test_content_sparse, X_test_title_sparse,\n",
    "                        X_test_author_sparse, \n",
    "                        X_test_time_features_sparse]).tocsr()"
   ]
  },
  {
   "cell_type": "markdown",
   "metadata": {},
   "source": [
    "**Read train target and split data for validation.**"
   ]
  },
  {
   "cell_type": "code",
   "execution_count": null,
   "metadata": {},
   "outputs": [],
   "source": [
    "train_target = pd.read_csv(os.path.join(PATH_TO_DATA, 'train_log1p_recommends.csv'), \n",
    "                           index_col='id')\n",
    "y_train = train_target['log_recommends'].values"
   ]
  },
  {
   "cell_type": "code",
   "execution_count": null,
   "metadata": {},
   "outputs": [],
   "source": [
    "train_part_size = int(0.7 * train_target.shape[0])\n",
    "X_train_part_sparse = X_train_sparse[:train_part_size, :]\n",
    "y_train_part = y_train[:train_part_size]\n",
    "X_valid_sparse =  X_train_sparse[train_part_size:, :]\n",
    "y_valid = y_train[train_part_size:]"
   ]
  },
  {
   "cell_type": "markdown",
   "metadata": {},
   "source": [
    "**Train a simple Ridge model and check MAE on the validation set.**"
   ]
  },
  {
   "cell_type": "code",
   "execution_count": null,
   "metadata": {},
   "outputs": [],
   "source": [
    "# You code here"
   ]
  },
  {
   "cell_type": "markdown",
   "metadata": {},
   "source": [
    "**Train the same Ridge with all available data, make predictions for the test set and form a submission file.**"
   ]
  },
  {
   "cell_type": "code",
   "execution_count": null,
   "metadata": {},
   "outputs": [],
   "source": [
    "# You code here"
   ]
  },
  {
   "cell_type": "code",
   "execution_count": null,
   "metadata": {},
   "outputs": [],
   "source": [
    "def write_submission_file(prediction, filename,\n",
    "                          path_to_sample=os.path.join(PATH_TO_DATA, \n",
    "                                                      'sample_submission.csv')):\n",
    "    submission = pd.read_csv(path_to_sample, index_col='id')\n",
    "    \n",
    "    submission['log_recommends'] = prediction\n",
    "    submission.to_csv(filename)"
   ]
  },
  {
   "cell_type": "code",
   "execution_count": null,
   "metadata": {},
   "outputs": [],
   "source": [
    "write_submission_file(ridge_test_pred, os.path.join(PATH_TO_DATA,\n",
    "                                                    'assignment6_medium_submission.csv'))"
   ]
  },
  {
   "cell_type": "markdown",
   "metadata": {},
   "source": [
    "**Now's the time for dirty Kaggle hacks. Form a submission file with all zeros. Make a submission. What do you get if you think about it? How is it going to help you with modifying your predictions?**"
   ]
  },
  {
   "cell_type": "code",
   "execution_count": null,
   "metadata": {},
   "outputs": [],
   "source": [
    "write_submission_file(np.zeros_like(ridge_test_pred), \n",
    "                      os.path.join(PATH_TO_DATA,\n",
    "                                   'medium_all_zeros_submission.csv'))"
   ]
  },
  {
   "cell_type": "markdown",
   "metadata": {},
   "source": [
    "**Modify predictions in an appropriate way (based on your all-zero submission) and make a new submission.**"
   ]
  },
  {
   "cell_type": "code",
   "execution_count": null,
   "metadata": {},
   "outputs": [],
   "source": [
    "ridge_test_pred_modif = ridge_test_pred # You code here"
   ]
  },
  {
   "cell_type": "code",
   "execution_count": null,
   "metadata": {},
   "outputs": [],
   "source": [
    "write_submission_file(ridge_test_pred_modif, \n",
    "                      os.path.join(PATH_TO_DATA,\n",
    "                                   'assignment6_medium_submission_with_hack.csv'))"
   ]
  },
  {
   "cell_type": "markdown",
   "metadata": {},
   "source": [
    "That's it for the assignment. Much more credits will be given to the winners in this competition, check [course roadmap](https://mlcourse.ai/roadmap). Do not spoil the assignment and the competition - don't share high-performing kernels (with MAE < 1.5).\n",
    "\n",
    "Some ideas for improvement:\n",
    "\n",
    "- Engineer good features, this is the key to success. Some simple features will be based on publication time, authors, content length and so on\n",
    "- You may not ignore HTML and extract some features from there\n",
    "- You'd better experiment with your validation scheme. You should see a correlation between your local improvements and LB score\n",
    "- Try TF-IDF, ngrams, Word2Vec and GloVe embeddings\n",
    "- Try various NLP techniques like stemming and lemmatization\n",
    "- Tune hyperparameters. In our example, we've left only 50k features and used C=1 as a regularization parameter, this can be changed\n",
    "- SGD and Vowpal Wabbit will learn much faster\n",
    "- Play around with blending and/or stacking. An intro is given in [this Kernel](https://www.kaggle.com/kashnitsky/ridge-and-lightgbm-simple-blending) by @yorko \n",
    "- In our course, we don't cover neural nets. But it's not obliged to use GRUs/LSTMs/whatever in this competition.\n",
    "\n",
    "Good luck!\n",
    "\n",
    "<img src='../../img/kaggle_shakeup.png' width=50%>"
   ]
  }
 ],
 "metadata": {
  "kernelspec": {
   "display_name": "Python 3",
   "language": "python",
   "name": "python3"
  },
  "language_info": {
   "codemirror_mode": {
    "name": "ipython",
    "version": 3
   },
   "file_extension": ".py",
   "mimetype": "text/x-python",
   "name": "python",
   "nbconvert_exporter": "python",
   "pygments_lexer": "ipython3",
   "version": "3.5.2"
  }
 },
 "nbformat": 4,
 "nbformat_minor": 2
}
